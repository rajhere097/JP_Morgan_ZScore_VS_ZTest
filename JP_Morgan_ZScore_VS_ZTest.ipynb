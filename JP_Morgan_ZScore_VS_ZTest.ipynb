{
 "cells": [
  {
   "cell_type": "markdown",
   "id": "d8308314-c03b-4e16-b338-d3554b16168d",
   "metadata": {},
   "source": [
    "```Z-Score → Outlier detection (point level).```\n",
    "\n",
    "```Z-Test → Hypothesis testing (mean comparison).```"
   ]
  },
  {
   "cell_type": "markdown",
   "id": "ccca2fb9-5225-4599-9290-20fd65d3859b",
   "metadata": {},
   "source": [
    "Lets do a Z score test to find ouliers in Jp morgan dataset"
   ]
  },
  {
   "cell_type": "code",
   "execution_count": 2,
   "id": "814fb42a-a3dc-4c0f-87d0-ef11dcad75b0",
   "metadata": {},
   "outputs": [
    {
     "name": "stdout",
     "output_type": "stream",
     "text": [
      "           Date     Open     High      Low    Close Adj Close          Volume\n",
      "0      1/3/2000   $49.83   $50.25   $48.08   $48.58    $24.41  $12,019,200.00\n",
      "1      1/4/2000   $47.08   $47.46   $46.13   $47.25    $23.87  $11,723,400.00\n",
      "2      1/5/2000   $46.83   $48.38   $46.00   $46.96    $23.72   $8,714,550.00\n",
      "3      1/6/2000   $46.75   $48.63   $46.50   $47.63    $24.06   $8,369,250.00\n",
      "4      1/7/2000   $48.42   $49.00   $47.33   $48.50    $24.50   $6,571,950.00\n",
      "...         ...      ...      ...      ...      ...       ...             ...\n",
      "5858  4/17/2023  $139.95  $140.06  $137.66  $139.83   $139.83  $16,050,500.00\n",
      "5859  4/18/2023  $140.27  $141.78  $139.03  $141.40   $141.40  $13,760,100.00\n",
      "5860  4/19/2023  $141.23  $141.50  $140.40  $141.22   $141.22   $9,158,100.00\n",
      "5861  4/20/2023  $139.91  $141.43  $139.84  $140.81   $140.81  $10,586,200.00\n",
      "5862  4/21/2023  $139.74  $141.11  $138.78  $140.54   $140.54  $11,841,800.00\n",
      "\n",
      "[5863 rows x 7 columns]\n"
     ]
    }
   ],
   "source": [
    "import pandas as pd\n",
    "\n",
    "JP_morgan_chase = pd.read_csv(r'C:\\Users\\LENOVO\\Downloads\\archive (1)\\JPMorgan Chase - JPMorgan Chase.csv')\n",
    "print(JP_morgan_chase)\n"
   ]
  },
  {
   "cell_type": "code",
   "execution_count": 4,
   "id": "3d96885e-3b91-45c5-bc9e-77777d36ee86",
   "metadata": {},
   "outputs": [
    {
     "data": {
      "text/plain": [
       "Date         0\n",
       "Open         0\n",
       "High         0\n",
       "Low          0\n",
       "Close        0\n",
       "Adj Close    0\n",
       "Volume       0\n",
       "dtype: int64"
      ]
     },
     "execution_count": 4,
     "metadata": {},
     "output_type": "execute_result"
    }
   ],
   "source": [
    "JP_morgan_chase.isnull().sum()"
   ]
  },
  {
   "cell_type": "code",
   "execution_count": 5,
   "id": "f90d73a8-4d5a-4b3a-ac2f-3330329ba6bd",
   "metadata": {},
   "outputs": [
    {
     "name": "stdout",
     "output_type": "stream",
     "text": [
      "<class 'pandas.core.frame.DataFrame'>\n",
      "RangeIndex: 5863 entries, 0 to 5862\n",
      "Data columns (total 7 columns):\n",
      " #   Column     Non-Null Count  Dtype \n",
      "---  ------     --------------  ----- \n",
      " 0   Date       5863 non-null   object\n",
      " 1   Open       5863 non-null   object\n",
      " 2   High       5863 non-null   object\n",
      " 3   Low        5863 non-null   object\n",
      " 4   Close      5863 non-null   object\n",
      " 5   Adj Close  5863 non-null   object\n",
      " 6   Volume     5863 non-null   object\n",
      "dtypes: object(7)\n",
      "memory usage: 320.8+ KB\n"
     ]
    }
   ],
   "source": [
    "JP_morgan_chase.info()"
   ]
  },
  {
   "cell_type": "code",
   "execution_count": 6,
   "id": "682d21e6-cc57-4a34-81f2-bbd5a15676a0",
   "metadata": {},
   "outputs": [
    {
     "data": {
      "text/html": [
       "<div>\n",
       "<style scoped>\n",
       "    .dataframe tbody tr th:only-of-type {\n",
       "        vertical-align: middle;\n",
       "    }\n",
       "\n",
       "    .dataframe tbody tr th {\n",
       "        vertical-align: top;\n",
       "    }\n",
       "\n",
       "    .dataframe thead th {\n",
       "        text-align: right;\n",
       "    }\n",
       "</style>\n",
       "<table border=\"1\" class=\"dataframe\">\n",
       "  <thead>\n",
       "    <tr style=\"text-align: right;\">\n",
       "      <th></th>\n",
       "      <th>Date</th>\n",
       "      <th>Open</th>\n",
       "      <th>High</th>\n",
       "      <th>Low</th>\n",
       "      <th>Close</th>\n",
       "      <th>Adj Close</th>\n",
       "      <th>Volume</th>\n",
       "    </tr>\n",
       "  </thead>\n",
       "  <tbody>\n",
       "    <tr>\n",
       "      <th>0</th>\n",
       "      <td>1/3/2000</td>\n",
       "      <td>$49.83</td>\n",
       "      <td>$50.25</td>\n",
       "      <td>$48.08</td>\n",
       "      <td>$48.58</td>\n",
       "      <td>$24.41</td>\n",
       "      <td>$12,019,200.00</td>\n",
       "    </tr>\n",
       "    <tr>\n",
       "      <th>1</th>\n",
       "      <td>1/4/2000</td>\n",
       "      <td>$47.08</td>\n",
       "      <td>$47.46</td>\n",
       "      <td>$46.13</td>\n",
       "      <td>$47.25</td>\n",
       "      <td>$23.87</td>\n",
       "      <td>$11,723,400.00</td>\n",
       "    </tr>\n",
       "    <tr>\n",
       "      <th>2</th>\n",
       "      <td>1/5/2000</td>\n",
       "      <td>$46.83</td>\n",
       "      <td>$48.38</td>\n",
       "      <td>$46.00</td>\n",
       "      <td>$46.96</td>\n",
       "      <td>$23.72</td>\n",
       "      <td>$8,714,550.00</td>\n",
       "    </tr>\n",
       "    <tr>\n",
       "      <th>3</th>\n",
       "      <td>1/6/2000</td>\n",
       "      <td>$46.75</td>\n",
       "      <td>$48.63</td>\n",
       "      <td>$46.50</td>\n",
       "      <td>$47.63</td>\n",
       "      <td>$24.06</td>\n",
       "      <td>$8,369,250.00</td>\n",
       "    </tr>\n",
       "    <tr>\n",
       "      <th>4</th>\n",
       "      <td>1/7/2000</td>\n",
       "      <td>$48.42</td>\n",
       "      <td>$49.00</td>\n",
       "      <td>$47.33</td>\n",
       "      <td>$48.50</td>\n",
       "      <td>$24.50</td>\n",
       "      <td>$6,571,950.00</td>\n",
       "    </tr>\n",
       "    <tr>\n",
       "      <th>5</th>\n",
       "      <td>1/10/2000</td>\n",
       "      <td>$48.50</td>\n",
       "      <td>$48.92</td>\n",
       "      <td>$47.67</td>\n",
       "      <td>$47.67</td>\n",
       "      <td>$24.08</td>\n",
       "      <td>$4,723,500.00</td>\n",
       "    </tr>\n",
       "    <tr>\n",
       "      <th>6</th>\n",
       "      <td>1/11/2000</td>\n",
       "      <td>$46.67</td>\n",
       "      <td>$46.96</td>\n",
       "      <td>$45.50</td>\n",
       "      <td>$46.54</td>\n",
       "      <td>$23.51</td>\n",
       "      <td>$8,405,550.00</td>\n",
       "    </tr>\n",
       "    <tr>\n",
       "      <th>7</th>\n",
       "      <td>1/12/2000</td>\n",
       "      <td>$46.46</td>\n",
       "      <td>$47.25</td>\n",
       "      <td>$46.33</td>\n",
       "      <td>$46.83</td>\n",
       "      <td>$23.66</td>\n",
       "      <td>$7,271,850.00</td>\n",
       "    </tr>\n",
       "    <tr>\n",
       "      <th>8</th>\n",
       "      <td>1/13/2000</td>\n",
       "      <td>$47.42</td>\n",
       "      <td>$48.33</td>\n",
       "      <td>$47.04</td>\n",
       "      <td>$47.54</td>\n",
       "      <td>$24.02</td>\n",
       "      <td>$6,918,900.00</td>\n",
       "    </tr>\n",
       "    <tr>\n",
       "      <th>9</th>\n",
       "      <td>1/14/2000</td>\n",
       "      <td>$49.29</td>\n",
       "      <td>$50.50</td>\n",
       "      <td>$48.54</td>\n",
       "      <td>$49.25</td>\n",
       "      <td>$24.88</td>\n",
       "      <td>$9,731,850.00</td>\n",
       "    </tr>\n",
       "  </tbody>\n",
       "</table>\n",
       "</div>"
      ],
      "text/plain": [
       "        Date    Open    High     Low   Close Adj Close          Volume\n",
       "0   1/3/2000  $49.83  $50.25  $48.08  $48.58    $24.41  $12,019,200.00\n",
       "1   1/4/2000  $47.08  $47.46  $46.13  $47.25    $23.87  $11,723,400.00\n",
       "2   1/5/2000  $46.83  $48.38  $46.00  $46.96    $23.72   $8,714,550.00\n",
       "3   1/6/2000  $46.75  $48.63  $46.50  $47.63    $24.06   $8,369,250.00\n",
       "4   1/7/2000  $48.42  $49.00  $47.33  $48.50    $24.50   $6,571,950.00\n",
       "5  1/10/2000  $48.50  $48.92  $47.67  $47.67    $24.08   $4,723,500.00\n",
       "6  1/11/2000  $46.67  $46.96  $45.50  $46.54    $23.51   $8,405,550.00\n",
       "7  1/12/2000  $46.46  $47.25  $46.33  $46.83    $23.66   $7,271,850.00\n",
       "8  1/13/2000  $47.42  $48.33  $47.04  $47.54    $24.02   $6,918,900.00\n",
       "9  1/14/2000  $49.29  $50.50  $48.54  $49.25    $24.88   $9,731,850.00"
      ]
     },
     "execution_count": 6,
     "metadata": {},
     "output_type": "execute_result"
    }
   ],
   "source": [
    "JP_morgan_chase.head(10)"
   ]
  },
  {
   "cell_type": "code",
   "execution_count": 7,
   "id": "eeed8ab0-406a-4161-a5cd-9e5a4356177a",
   "metadata": {},
   "outputs": [
    {
     "name": "stdout",
     "output_type": "stream",
     "text": [
      "<class 'pandas.core.frame.DataFrame'>\n",
      "RangeIndex: 5863 entries, 0 to 5862\n",
      "Data columns (total 7 columns):\n",
      " #   Column     Non-Null Count  Dtype         \n",
      "---  ------     --------------  -----         \n",
      " 0   Date       5863 non-null   datetime64[ns]\n",
      " 1   Open       5863 non-null   object        \n",
      " 2   High       5863 non-null   object        \n",
      " 3   Low        5863 non-null   object        \n",
      " 4   Close      5863 non-null   object        \n",
      " 5   Adj Close  5863 non-null   object        \n",
      " 6   Volume     5863 non-null   object        \n",
      "dtypes: datetime64[ns](1), object(6)\n",
      "memory usage: 320.8+ KB\n"
     ]
    }
   ],
   "source": [
    "# Converting date column\n",
    "JP_morgan_chase['Date'] = pd.to_datetime(JP_morgan_chase['Date'])\n",
    "JP_morgan_chase.info()"
   ]
  },
  {
   "cell_type": "code",
   "execution_count": 9,
   "id": "3111722b-f465-4769-bfbc-b3da3bee9af3",
   "metadata": {},
   "outputs": [
    {
     "name": "stdout",
     "output_type": "stream",
     "text": [
      "           Date    Open    High     Low   Close Adj Close       Volume\n",
      "0    2000-01-03   49.83   50.25   48.08   48.58     24.41  12019200.00\n",
      "1    2000-01-04   47.08   47.46   46.13   47.25     23.87  11723400.00\n",
      "2    2000-01-05   46.83   48.38   46.00   46.96     23.72   8714550.00\n",
      "3    2000-01-06   46.75   48.63   46.50   47.63     24.06   8369250.00\n",
      "4    2000-01-07   48.42   49.00   47.33   48.50     24.50   6571950.00\n",
      "...         ...     ...     ...     ...     ...       ...          ...\n",
      "5858 2023-04-17  139.95  140.06  137.66  139.83    139.83  16050500.00\n",
      "5859 2023-04-18  140.27  141.78  139.03  141.40    141.40  13760100.00\n",
      "5860 2023-04-19  141.23  141.50  140.40  141.22    141.22   9158100.00\n",
      "5861 2023-04-20  139.91  141.43  139.84  140.81    140.81  10586200.00\n",
      "5862 2023-04-21  139.74  141.11  138.78  140.54    140.54  11841800.00\n",
      "\n",
      "[5863 rows x 7 columns]\n"
     ]
    }
   ],
   "source": [
    "#replacing the symbols $ and ,\n",
    "for i in ['Open', 'High', 'Low', 'Close', 'Adj Close', 'Volume']:\n",
    "    JP_morgan_chase[i] = JP_morgan_chase[i].replace('[\\$,]', '', regex=True)\n",
    "\n",
    "print(JP_morgan_chase)"
   ]
  },
  {
   "cell_type": "code",
   "execution_count": 10,
   "id": "264343dc-4e22-44dc-91ff-8799e66ddd5e",
   "metadata": {},
   "outputs": [
    {
     "name": "stdout",
     "output_type": "stream",
     "text": [
      "<class 'pandas.core.frame.DataFrame'>\n",
      "RangeIndex: 5863 entries, 0 to 5862\n",
      "Data columns (total 7 columns):\n",
      " #   Column     Non-Null Count  Dtype         \n",
      "---  ------     --------------  -----         \n",
      " 0   Date       5863 non-null   datetime64[ns]\n",
      " 1   Open       5863 non-null   float64       \n",
      " 2   High       5863 non-null   float64       \n",
      " 3   Low        5863 non-null   float64       \n",
      " 4   Close      5863 non-null   float64       \n",
      " 5   Adj Close  5863 non-null   float64       \n",
      " 6   Volume     5863 non-null   float64       \n",
      "dtypes: datetime64[ns](1), float64(6)\n",
      "memory usage: 320.8 KB\n"
     ]
    }
   ],
   "source": [
    "#converting to float\n",
    "\n",
    "for z in ['Open', 'High', 'Low', 'Close', 'Adj Close', 'Volume']:\n",
    "    JP_morgan_chase[z] = JP_morgan_chase[z].astype(float)\n",
    "\n",
    "JP_morgan_chase.info()"
   ]
  },
  {
   "cell_type": "code",
   "execution_count": 14,
   "id": "6f9ea08d-f131-4e63-9215-7aec4a38b1e5",
   "metadata": {},
   "outputs": [
    {
     "name": "stdout",
     "output_type": "stream",
     "text": [
      "           Date   Open   High    Low  Close  Adj Close       Volume  Z_Volume\n",
      "2024 2008-01-23  40.40  46.15  40.00  45.72      30.89   77137000.0  3.010428\n",
      "2060 2008-03-14  38.80  38.80  36.01  36.54      24.69   77776000.0  3.044290\n",
      "2061 2008-03-17  37.00  41.09  37.00  40.31      27.24  125296300.0  5.562468\n",
      "2062 2008-03-18  42.19  42.88  41.25  42.71      28.86   76994300.0  3.002866\n",
      "2144 2008-07-15  30.73  32.82  29.24  31.02      21.37   88717800.0  3.624114\n",
      "...         ...    ...    ...    ...    ...        ...          ...       ...\n",
      "3114 2012-05-18  33.99  33.99  32.97  33.49      24.60   82650100.0  3.302576\n",
      "3115 2012-05-21  33.52  33.71  32.26  32.51      23.88   99554800.0  4.198384\n",
      "3116 2012-05-22  33.32  34.58  32.99  34.01      24.99   84721000.0  3.412317\n",
      "3137 2012-06-21  36.49  37.03  35.43  35.51      26.09   95637000.0  3.990773\n",
      "3152 2012-07-13  35.06  36.20  34.86  36.07      26.72   83001000.0  3.321171\n",
      "\n",
      "[123 rows x 8 columns]\n"
     ]
    }
   ],
   "source": [
    "from scipy import stats\n",
    "import numpy as np\n",
    "\n",
    "#calculating z score on Volumne column and creating a z_volume column\n",
    "JP_morgan_chase['Z_Volume'] = stats.zscore(JP_morgan_chase['Volume'])\n",
    "\n",
    "# marking outliers\n",
    "outliers = JP_morgan_chase[np.abs(JP_morgan_chase['Z_Volume']) > 3]\n",
    "\n",
    "print(outliers)\n",
    "\n",
    "\n"
   ]
  },
  {
   "cell_type": "code",
   "execution_count": 17,
   "id": "81878575-4a92-432c-ac4b-bb3ac8d9a561",
   "metadata": {},
   "outputs": [
    {
     "name": "stdout",
     "output_type": "stream",
     "text": [
      "           Date       Volume  Z_Volume\n",
      "2024 2008-01-23   77137000.0  3.010428\n",
      "2060 2008-03-14   77776000.0  3.044290\n",
      "2061 2008-03-17  125296300.0  5.562468\n",
      "2062 2008-03-18   76994300.0  3.002866\n",
      "2144 2008-07-15   88717800.0  3.624114\n",
      "...         ...          ...       ...\n",
      "3114 2012-05-18   82650100.0  3.302576\n",
      "3115 2012-05-21   99554800.0  4.198384\n",
      "3116 2012-05-22   84721000.0  3.412317\n",
      "3137 2012-06-21   95637000.0  3.990773\n",
      "3152 2012-07-13   83001000.0  3.321171\n",
      "\n",
      "[123 rows x 3 columns]\n"
     ]
    }
   ],
   "source": [
    "print(outliers[['Date', 'Volume', 'Z_Volume']])"
   ]
  },
  {
   "cell_type": "code",
   "execution_count": 23,
   "id": "97fd94f6-7784-4d03-86cb-5333423309fe",
   "metadata": {},
   "outputs": [
    {
     "data": {
      "image/png": "[encoded data removed]",
      "text/plain": [
       "<Figure size 640x480 with 1 Axes>"
      ]
     },
     "metadata": {},
     "output_type": "display_data"
    }
   ],
   "source": [
    "import matplotlib.pyplot as plt\n",
    "\n",
    "plt.hist(JP_morgan_chase['Z_Volume'], bins=50, color='green', edgecolor='black')\n",
    "plt.title('Zscore frequency')\n",
    "plt.xlabel('Z score')\n",
    "plt.ylabel('Freqency')\n",
    "plt.show()"
   ]
  },
  {
   "cell_type": "code",
   "execution_count": 26,
   "id": "9448e26c-1c11-40f3-b681-0bd859d8a9fd",
   "metadata": {},
   "outputs": [
    {
     "data": {
      "text/html": [
       "<div>\n",
       "<style scoped>\n",
       "    .dataframe tbody tr th:only-of-type {\n",
       "        vertical-align: middle;\n",
       "    }\n",
       "\n",
       "    .dataframe tbody tr th {\n",
       "        vertical-align: top;\n",
       "    }\n",
       "\n",
       "    .dataframe thead th {\n",
       "        text-align: right;\n",
       "    }\n",
       "</style>\n",
       "<table border=\"1\" class=\"dataframe\">\n",
       "  <thead>\n",
       "    <tr style=\"text-align: right;\">\n",
       "      <th></th>\n",
       "      <th>Date</th>\n",
       "      <th>Z_Volume</th>\n",
       "    </tr>\n",
       "  </thead>\n",
       "  <tbody>\n",
       "    <tr>\n",
       "      <th>2236</th>\n",
       "      <td>2008-11-21</td>\n",
       "      <td>9.207163</td>\n",
       "    </tr>\n",
       "    <tr>\n",
       "      <th>3109</th>\n",
       "      <td>2012-05-11</td>\n",
       "      <td>10.437586</td>\n",
       "    </tr>\n",
       "  </tbody>\n",
       "</table>\n",
       "</div>"
      ],
      "text/plain": [
       "           Date   Z_Volume\n",
       "2236 2008-11-21   9.207163\n",
       "3109 2012-05-11  10.437586"
      ]
     },
     "execution_count": 26,
     "metadata": {},
     "output_type": "execute_result"
    }
   ],
   "source": [
    "JP_morgan_chase[JP_morgan_chase['Z_Volume'] > 9][['Date', 'Z_Volume']]"
   ]
  },
  {
   "cell_type": "markdown",
   "id": "778c6304-75db-4b04-9a5a-5ab3f4587399",
   "metadata": {},
   "source": [
    "**Z test**\n",
    "\n",
    "# Lets check if 2023 volumne average is diffrent from the other years"
   ]
  },
  {
   "cell_type": "code",
   "execution_count": 30,
   "id": "bff4d0d6-1f79-429a-981e-f31a7c9bf73b",
   "metadata": {},
   "outputs": [
    {
     "data": {
      "text/plain": [
       "5862   2023-04-21\n",
       "5861   2023-04-20\n",
       "5860   2023-04-19\n",
       "5859   2023-04-18\n",
       "5858   2023-04-17\n",
       "          ...    \n",
       "4      2000-01-07\n",
       "3      2000-01-06\n",
       "2      2000-01-05\n",
       "1      2000-01-04\n",
       "0      2000-01-03\n",
       "Name: Date, Length: 5863, dtype: datetime64[ns]"
      ]
     },
     "execution_count": 30,
     "metadata": {},
     "output_type": "execute_result"
    }
   ],
   "source": [
    "JP_morgan_chase['Date'].sort_values(ascending=False)"
   ]
  },
  {
   "cell_type": "code",
   "execution_count": 37,
   "id": "4cd42e83-f6a5-4c66-bac0-9f5ec182f51a",
   "metadata": {},
   "outputs": [],
   "source": [
    "from statsmodels.stats.weightstats import ztest\n",
    "\n",
    "Data_2023 = JP_morgan_chase[JP_morgan_chase['Date'].dt.year == 2023]['Volume']\n",
    "Rest_Data = JP_morgan_chase[JP_morgan_chase['Date'].dt.year != 2023]['Volume']"
   ]
  },
  {
   "cell_type": "code",
   "execution_count": 38,
   "id": "d8b5f0d6-e9e8-45f1-bcec-c82fe35e76ba",
   "metadata": {},
   "outputs": [
    {
     "name": "stdout",
     "output_type": "stream",
     "text": [
      "z_stat is -3.156775275252738 and p_value is 0.0015952423580205182\n"
     ]
    }
   ],
   "source": [
    "z_stats, p_value = ztest(Data_2023, Rest_Data, alternative= 'two-sided')\n",
    "\n",
    "print(f'z_stat is {z_stats} and p_value is {p_value}')"
   ]
  },
  {
   "cell_type": "markdown",
   "id": "f31933ff-5e61-4dab-bff8-6a69d8a542bc",
   "metadata": {},
   "source": [
    "***If p_value <= 0.05, null hypothesis is unlikely, accepts alternative\n",
    "If p_value > 0.05, stronly accepts null hypothesis, rejects alternative\n",
    "So in my case p_value is 0.0015 which is far below 0.05, so it rejets null hypothesis. So it means average of volume is year 2023 is diffrent from rest years.***"
   ]
  }
 ],
 "metadata": {
  "kernelspec": {
   "display_name": "Python [conda env:base] *",
   "language": "python",
   "name": "conda-base-py"
  },
  "language_info": {
   "codemirror_mode": {
    "name": "ipython",
    "version": 3
   },
   "file_extension": ".py",
   "mimetype": "text/x-python",
   "name": "python",
   "nbconvert_exporter": "python",
   "pygments_lexer": "ipython3",
   "version": "3.13.5"
  }
 },
 "nbformat": 4,
 "nbformat_minor": 5
}
